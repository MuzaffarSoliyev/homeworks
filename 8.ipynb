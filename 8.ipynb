{
 "cells": [
  {
   "cell_type": "code",
   "execution_count": 2,
   "metadata": {},
   "outputs": [
    {
     "name": "stdout",
     "output_type": "stream",
     "text": [
      "0 2.5066282746310002\n"
     ]
    }
   ],
   "source": [
    "import numpy as np\n",
    "a = 0\n",
    "b = np.sqrt(2*np.pi)\n",
    "print(a,b)"
   ]
  },
  {
   "cell_type": "code",
   "execution_count": 3,
   "metadata": {},
   "outputs": [
    {
     "name": "stdout",
     "output_type": "stream",
     "text": [
      "0.0\n"
     ]
    }
   ],
   "source": [
    "def f(x):\n",
    "    return x*np.sin(x**2/2)\n",
    "print (f(0))"
   ]
  },
  {
   "cell_type": "code",
   "execution_count": 4,
   "metadata": {},
   "outputs": [
    {
     "name": "stdout",
     "output_type": "stream",
     "text": [
      "[0.         0.02531948 0.05063896 0.07595843 0.10127791 0.12659739\n",
      " 0.15191687 0.17723634 0.20255582 0.2278753  0.25319478 0.27851425\n",
      " 0.30383373 0.32915321 0.35447269 0.37979216 0.40511164 0.43043112\n",
      " 0.4557506  0.48107007 0.50638955 0.53170903 0.55702851 0.58234798\n",
      " 0.60766746 0.63298694 0.65830642 0.68362589 0.70894537 0.73426485\n",
      " 0.75958433 0.7849038  0.81022328 0.83554276 0.86086224 0.88618171\n",
      " 0.91150119 0.93682067 0.96214015 0.98745962 1.0127791  1.03809858\n",
      " 1.06341806 1.08873753 1.11405701 1.13937649 1.16469597 1.19001544\n",
      " 1.21533492 1.2406544  1.26597388 1.29129335 1.31661283 1.34193231\n",
      " 1.36725179 1.39257126 1.41789074 1.44321022 1.4685297  1.49384917\n",
      " 1.51916865 1.54448813 1.56980761 1.59512708 1.62044656 1.64576604\n",
      " 1.67108552 1.69640499 1.72172447 1.74704395 1.77236343 1.7976829\n",
      " 1.82300238 1.84832186 1.87364134 1.89896081 1.92428029 1.94959977\n",
      " 1.97491925 2.00023872 2.0255582  2.05087768 2.07619716 2.10151663\n",
      " 2.12683611 2.15215559 2.17747507 2.20279454 2.22811402 2.2534335\n",
      " 2.27875298 2.30407245 2.32939193 2.35471141 2.38003089 2.40535036\n",
      " 2.43066984 2.45598932 2.4813088  2.50662827]\n"
     ]
    }
   ],
   "source": [
    "step = 100\n",
    "point = np.linspace(a,b,100)\n",
    "print(point)"
   ]
  },
  {
   "cell_type": "code",
   "execution_count": 5,
   "metadata": {},
   "outputs": [
    {
     "name": "stdout",
     "output_type": "stream",
     "text": [
      "1.9796676711693102\n"
     ]
    }
   ],
   "source": [
    "integrate = 0.\n",
    "for i in range(step):\n",
    "    integrate = integrate + f(point[i])\n",
    "integrate = (b - a)/step * integrate\n",
    "print(integrate)"
   ]
  },
  {
   "cell_type": "code",
   "execution_count": 12,
   "metadata": {},
   "outputs": [
    {
     "name": "stdout",
     "output_type": "stream",
     "text": [
      "100\n",
      "2.110834743105049\n",
      "abs error:  0.11083474310504915\n",
      "relative erroe:  0.055417371552524575\n",
      "1000\n",
      "2.0411666996201467\n",
      "abs error:  0.04116669962014674\n",
      "relative erroe:  0.02058334981007337\n",
      "10000\n",
      "2.0261461810490475\n",
      "abs error:  0.026146181049047534\n",
      "relative erroe:  0.013073090524523767\n",
      "100000\n",
      "1.9975884809816828\n",
      "abs error:  0.002411519018317154\n",
      "relative erroe:  0.001205759509158577\n"
     ]
    },
    {
     "data": {
      "image/png": "[encoded data removed]",
      "text/plain": [
       "<Figure size 432x288 with 1 Axes>"
      ]
     },
     "metadata": {
      "needs_background": "light"
     },
     "output_type": "display_data"
    }
   ],
   "source": [
    "import numpy as np\n",
    "steps = [100, 1000, 10000, 100000]\n",
    "for step in steps:\n",
    "    point = np.random.uniform(a,b,step)\n",
    "    print(len(point))\n",
    "    integrate = 0.\n",
    "    for i in range(step):\n",
    "        integrate = integrate + f(point[i])\n",
    "    integrate = (b - a)/step * integrate\n",
    "    print(integrate)\n",
    "    print (\"abs error: \", np.abs(2 - integrate))\n",
    "    print(\"relative erroe: \", np.abs(2 - integrate)/2)\n",
    "import matplotlib.pyplot as plt\n",
    "plt.plot(point, point*np.sin(point**2/2),'r.')\n",
    "plt.show()"
   ]
  }
 ],
 "metadata": {
  "kernelspec": {
   "display_name": "Python 3",
   "language": "python",
   "name": "python3"
  },
  "language_info": {
   "codemirror_mode": {
    "name": "ipython",
    "version": 3
   },
   "file_extension": ".py",
   "mimetype": "text/x-python",
   "name": "python",
   "nbconvert_exporter": "python",
   "pygments_lexer": "ipython3",
   "version": "3.7.4"
  }
 },
 "nbformat": 4,
 "nbformat_minor": 2
}
