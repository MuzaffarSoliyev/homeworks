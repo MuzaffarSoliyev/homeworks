{
 "cells": [
  {
   "cell_type": "code",
   "execution_count": 1,
   "metadata": {},
   "outputs": [
    {
     "name": "stdout",
     "output_type": "stream",
     "text": [
      "3\n"
     ]
    }
   ],
   "source": [
    "import numpy as np\n",
    "def f(x, y):\n",
    "    return 3 * x**2 * y\n",
    "print(f(1,1))"
   ]
  },
  {
   "cell_type": "code",
   "execution_count": 2,
   "metadata": {},
   "outputs": [
    {
     "name": "stdout",
     "output_type": "stream",
     "text": [
      "20001\n",
      "[0.0000e+00 1.0000e-04 2.0000e-04 ... 1.9998e+00 1.9999e+00 2.0000e+00]\n",
      "2970.608266197902\n"
     ]
    }
   ],
   "source": [
    "step = 10**(-4)\n",
    "n = int(2/step)\n",
    "X = np.zeros(n + 1)\n",
    "X[0] = 0\n",
    "for i in range(len(X) - 1):\n",
    "    X[i + 1] = X[i] + step\n",
    "print(len(X))\n",
    "print(X)\n",
    "Y = np.zeros(n + 1)\n",
    "Y[0] = 1.\n",
    "#print(step)\n",
    "\n",
    "for i in range(1,len(X)):\n",
    "    Y[i] = Y[i - 1] + (X[i] - X[i - 1]) * f(X[i - 1], Y[i - 1])\n",
    "    # print(Y[i])\n",
    "print(Y[len(Y) - 1])"
   ]
  },
  {
   "cell_type": "code",
   "execution_count": 20,
   "metadata": {},
   "outputs": [
    {
     "name": "stdout",
     "output_type": "stream",
     "text": [
      "2980.9579870417283\n"
     ]
    }
   ],
   "source": [
    "print(np.exp(2**3))"
   ]
  },
  {
   "cell_type": "code",
   "execution_count": 3,
   "metadata": {},
   "outputs": [
    {
     "name": "stdout",
     "output_type": "stream",
     "text": [
      "[0.1, 0.01, 0.001, 0.0001, 1e-05, 1e-06, 1e-07, 1e-08]\n"
     ]
    }
   ],
   "source": [
    "steps = []\n",
    "for i in range(2,10):\n",
    "    steps.append(10/(10**(i)))\n",
    "print(steps)"
   ]
  },
  {
   "cell_type": "code",
   "execution_count": 4,
   "metadata": {},
   "outputs": [
    {
     "name": "stdout",
     "output_type": "stream",
     "text": [
      "21\n",
      "[0.  0.1 0.2 0.3 0.4 0.5 0.6 0.7 0.8 0.9 1.  1.1 1.2 1.3 1.4 1.5 1.6 1.7\n",
      " 1.8 1.9 2. ]\n",
      "201\n",
      "[0.   0.01 0.02 0.03 0.04 0.05 0.06 0.07 0.08 0.09 0.1  0.11 0.12 0.13\n",
      " 0.14 0.15 0.16 0.17 0.18 0.19 0.2  0.21 0.22 0.23 0.24 0.25 0.26 0.27\n",
      " 0.28 0.29 0.3  0.31 0.32 0.33 0.34 0.35 0.36 0.37 0.38 0.39 0.4  0.41\n",
      " 0.42 0.43 0.44 0.45 0.46 0.47 0.48 0.49 0.5  0.51 0.52 0.53 0.54 0.55\n",
      " 0.56 0.57 0.58 0.59 0.6  0.61 0.62 0.63 0.64 0.65 0.66 0.67 0.68 0.69\n",
      " 0.7  0.71 0.72 0.73 0.74 0.75 0.76 0.77 0.78 0.79 0.8  0.81 0.82 0.83\n",
      " 0.84 0.85 0.86 0.87 0.88 0.89 0.9  0.91 0.92 0.93 0.94 0.95 0.96 0.97\n",
      " 0.98 0.99 1.   1.01 1.02 1.03 1.04 1.05 1.06 1.07 1.08 1.09 1.1  1.11\n",
      " 1.12 1.13 1.14 1.15 1.16 1.17 1.18 1.19 1.2  1.21 1.22 1.23 1.24 1.25\n",
      " 1.26 1.27 1.28 1.29 1.3  1.31 1.32 1.33 1.34 1.35 1.36 1.37 1.38 1.39\n",
      " 1.4  1.41 1.42 1.43 1.44 1.45 1.46 1.47 1.48 1.49 1.5  1.51 1.52 1.53\n",
      " 1.54 1.55 1.56 1.57 1.58 1.59 1.6  1.61 1.62 1.63 1.64 1.65 1.66 1.67\n",
      " 1.68 1.69 1.7  1.71 1.72 1.73 1.74 1.75 1.76 1.77 1.78 1.79 1.8  1.81\n",
      " 1.82 1.83 1.84 1.85 1.86 1.87 1.88 1.89 1.9  1.91 1.92 1.93 1.94 1.95\n",
      " 1.96 1.97 1.98 1.99 2.  ]\n",
      "2001\n",
      "[0.000e+00 1.000e-03 2.000e-03 ... 1.998e+00 1.999e+00 2.000e+00]\n",
      "20001\n",
      "[0.0000e+00 1.0000e-04 2.0000e-04 ... 1.9998e+00 1.9999e+00 2.0000e+00]\n",
      "200000\n",
      "[0.00000e+00 1.00000e-05 2.00000e-05 ... 1.99997e+00 1.99998e+00\n",
      " 1.99999e+00]\n",
      "2000001\n",
      "[0.000000e+00 1.000000e-06 2.000000e-06 ... 1.999998e+00 1.999999e+00\n",
      " 2.000000e+00]\n",
      "20000001\n",
      "[0.0000000e+00 1.0000000e-07 2.0000000e-07 ... 1.9999998e+00 1.9999999e+00\n",
      " 2.0000000e+00]\n",
      "200000001\n",
      "[0.00000000e+00 1.00000000e-08 2.00000000e-08 ... 1.99999998e+00\n",
      " 1.99999999e+00 2.00000000e+00]\n"
     ]
    },
    {
     "data": {
      "text/plain": [
       "<Figure size 640x480 with 1 Axes>"
      ]
     },
     "metadata": {},
     "output_type": "display_data"
    }
   ],
   "source": [
    "error = []\n",
    "i = 0\n",
    "for step in steps:\n",
    "    n = int(2/step)\n",
    "    X = np.zeros(n + 1)\n",
    "    X[0] = 0\n",
    "    for i in range(len(X) - 1):\n",
    "        X[i + 1] = X[i] + step\n",
    "    print(len(X))\n",
    "    print(X)\n",
    "    Y = np.zeros(n + 1)\n",
    "    Y[0] = 1.\n",
    "    #print(step)\n",
    "\n",
    "    for i in range(1,len(X)):\n",
    "        Y[i] = Y[i - 1] + (X[i] - X[i - 1]) * f(X[i - 1], Y[i - 1])\n",
    "        # print(Y[i])\n",
    "    #print(Y[len(Y) - 1])\n",
    "    error.append(np.abs(np.exp(2**3) - Y[len(Y) - 1]))\n",
    "    # i = i + 1\n",
    "import matplotlib.pyplot as plt\n",
    "plt.plot(steps, error)\n",
    "plt.show()"
   ]
  },
  {
   "cell_type": "code",
   "execution_count": 7,
   "metadata": {},
   "outputs": [
    {
     "data": {
      "image/png": "[encoded data removed]",
      "text/plain": [
       "<Figure size 432x288 with 1 Axes>"
      ]
     },
     "metadata": {
      "needs_background": "light"
     },
     "output_type": "display_data"
    }
   ],
   "source": [
    "import matplotlib.pyplot as plt\n",
    "plt.plot(np.log(steps), error,'.')\n",
    "plt.show()"
   ]
  },
  {
   "cell_type": "code",
   "execution_count": 33,
   "metadata": {},
   "outputs": [
    {
     "name": "stdout",
     "output_type": "stream",
     "text": [
      "[2675.9889521174396, 836.132352694477, 101.37682960142183, 10.349720843826162, 1.3946766912449675, 0.10373759181175046, 0.01036176077741402, 0.0011728607778422884]\n"
     ]
    }
   ],
   "source": [
    "print(error)"
   ]
  },
  {
   "cell_type": "code",
   "execution_count": 6,
   "metadata": {},
   "outputs": [
    {
     "name": "stdout",
     "output_type": "stream",
     "text": [
      "[ -2.30258509  -4.60517019  -6.90775528  -9.21034037 -11.51292546\n",
      " -13.81551056 -16.11809565 -18.42068074]\n"
     ]
    }
   ],
   "source": [
    "print(np.log(steps))"
   ]
  }
 ],
 "metadata": {
  "kernelspec": {
   "display_name": "Python 3",
   "language": "python",
   "name": "python3"
  },
  "language_info": {
   "codemirror_mode": {
    "name": "ipython",
    "version": 3
   },
   "file_extension": ".py",
   "mimetype": "text/x-python",
   "name": "python",
   "nbconvert_exporter": "python",
   "pygments_lexer": "ipython3",
   "version": "3.7.4"
  }
 },
 "nbformat": 4,
 "nbformat_minor": 2
}
