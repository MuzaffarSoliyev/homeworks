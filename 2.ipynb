{
 "cells": [
  {
   "cell_type": "code",
   "execution_count": 98,
   "metadata": {},
   "outputs": [
    {
     "name": "stdout",
     "output_type": "stream",
     "text": [
      "(360, 64)\n",
      "(360,)\n",
      "(178, 64) (178,)\n",
      "(182, 64) (182,)\n"
     ]
    }
   ],
   "source": [
    "import numpy as np\n",
    "from sklearn.datasets import load_digits\n",
    "data = load_digits()\n",
    "X = []\n",
    "X1 = []\n",
    "X2 = []\n",
    "Y1 = []\n",
    "Y2 = []\n",
    "target = []\n",
    "for i in range(len(data.data)):\n",
    "    if data.target[i] == 0:\n",
    "        X1.append(data.data[i])\n",
    "        Y1.append(data.target[i])\n",
    "        X.append(data.data[i])\n",
    "        target.append(data.target[i])\n",
    "    if data.target[i] == 1:\n",
    "        X2.append(data.data[i])\n",
    "        Y2.append(data.target[i])\n",
    "        X.append(data.data[i])\n",
    "        target.append(data.target[i])\n",
    "X = np.array(X)\n",
    "X1 = np.array(X1)\n",
    "X2 = np.array(X2)\n",
    "Y1 = np.array(Y1)\n",
    "Y2 = np.array(Y2)\n",
    "target = np.array(target)\n",
    "print(X.shape)\n",
    "print(target.shape)\n",
    "print(X1.shape,Y1.shape)\n",
    "print(X2.shape,Y2.shape)"
   ]
  },
  {
   "cell_type": "code",
   "execution_count": 99,
   "metadata": {},
   "outputs": [
    {
     "name": "stdout",
     "output_type": "stream",
     "text": [
      "(64, 1) (64, 1)\n"
     ]
    }
   ],
   "source": [
    "mu1 = X1.mean(0).reshape((X1.T.shape[0],1))\n",
    "mu2 = X2.mean(0).reshape((X2.T.shape[0],1))\n",
    "print(mu1.shape,mu2.shape)"
   ]
  },
  {
   "cell_type": "code",
   "execution_count": 100,
   "metadata": {},
   "outputs": [
    {
     "name": "stdout",
     "output_type": "stream",
     "text": [
      "(64, 64) (64, 64)\n"
     ]
    }
   ],
   "source": [
    "S1 = (X1.T-mu1) @ (X1.T-mu1).T\n",
    "S2 = (X2.T-mu2) @ (X2.T-mu2).T\n",
    "print(S1.shape, S2.shape)"
   ]
  },
  {
   "cell_type": "code",
   "execution_count": 101,
   "metadata": {},
   "outputs": [
    {
     "name": "stdout",
     "output_type": "stream",
     "text": [
      "(64, 64) (64, 64)\n"
     ]
    }
   ],
   "source": [
    "Sw = S1 + S2\n",
    "Sb = (mu1-mu2) @ (mu1-mu2).T\n",
    "print(Sw.shape,Sb.shape)"
   ]
  },
  {
   "cell_type": "code",
   "execution_count": 89,
   "metadata": {},
   "outputs": [
    {
     "name": "stdout",
     "output_type": "stream",
     "text": [
      "(64, 1)\n"
     ]
    }
   ],
   "source": [
    "w = np.linalg.pinv(Sw)@(mu1-mu2)\n",
    "print(w.shape)"
   ]
  },
  {
   "cell_type": "code",
   "execution_count": 102,
   "metadata": {},
   "outputs": [],
   "source": [
    "matrix = np.linalg.pinv(Sw)@Sb\n",
    "\n",
    "w, v = np.linalg.eig(matrix)\n",
    "w_= v[v.shape[0]-5,:]"
   ]
  },
  {
   "cell_type": "code",
   "execution_count": 103,
   "metadata": {},
   "outputs": [
    {
     "name": "stdout",
     "output_type": "stream",
     "text": [
      "(360,)\n",
      "(360, 1)\n"
     ]
    }
   ],
   "source": [
    "#Y = w.T @ X.T\n",
    "Y = (w_.T @ X.T)\n",
    "print(Y.shape)\n",
    "Y_ = Y.reshape(target.shape[0],1)\n",
    "print(Y_.shape)\n",
    "color = {0:'r.', 1:'g.'}"
   ]
  },
  {
   "cell_type": "code",
   "execution_count": 104,
   "metadata": {},
   "outputs": [
    {
     "name": "stdout",
     "output_type": "stream",
     "text": [
      "[[-1.76771543+0.32156017j  0.        +0.j        ]\n",
      " [-2.60197944+0.13403081j  1.        +0.j        ]\n",
      " [-2.85987198+0.19517632j  0.        +0.j        ]\n",
      " [-3.02487649+0.52707515j  1.        +0.j        ]\n",
      " [-2.59531416+0.41387364j  0.        +0.j        ]\n",
      " [-2.44325656+0.29159958j  1.        +0.j        ]\n",
      " [-1.55502625+0.34713217j  0.        +0.j        ]\n",
      " [-2.72676514+0.33034185j  0.        +0.j        ]\n",
      " [-2.26817662+0.35991403j  1.        +0.j        ]\n",
      " [-2.45622058+0.18122462j  1.        +0.j        ]\n",
      " [-1.93134742+0.53186672j  0.        +0.j        ]\n",
      " [-1.79142955+0.45989011j  0.        +0.j        ]\n",
      " [-2.73022494+0.36754987j  0.        +0.j        ]\n",
      " [-3.03713307+0.10075029j  1.        +0.j        ]\n",
      " [-2.72709225-0.14751545j  1.        +0.j        ]\n",
      " [-2.33203999+0.08845714j  0.        +0.j        ]\n",
      " [-1.06260719+0.0126729j   0.        +0.j        ]\n",
      " [-0.86228715+0.46252276j  0.        +0.j        ]\n",
      " [-2.37276578+0.27273668j  1.        +0.j        ]\n",
      " [-2.28767448+0.36815357j  1.        +0.j        ]\n",
      " [-2.78705535+0.45667994j  1.        +0.j        ]\n",
      " [-2.40501298-0.10532079j  1.        +0.j        ]\n",
      " [-2.98105661-0.16073749j  1.        +0.j        ]\n",
      " [-2.55029809-0.36417607j  0.        +0.j        ]\n",
      " [-2.30468873+0.54360413j  1.        +0.j        ]\n",
      " [-2.63322692+0.2150137j   0.        +0.j        ]\n",
      " [-1.3828668 -0.00619094j  0.        +0.j        ]\n",
      " [-3.05723639+0.11749125j  1.        +0.j        ]\n",
      " [-1.96595464+0.0827305j   0.        +0.j        ]\n",
      " [-3.1767985 +0.19261532j  1.        +0.j        ]\n",
      " [-1.25075509-0.02851877j  0.        +0.j        ]\n",
      " [-2.85392351+0.23905311j  1.        +0.j        ]\n",
      " [-2.6860136 +0.44874584j  0.        +0.j        ]\n",
      " [-1.05919652+0.40591153j  0.        +0.j        ]\n",
      " [-2.96924585+0.25742218j  1.        +0.j        ]\n",
      " [-3.01749273+0.36039992j  1.        +0.j        ]\n",
      " [-1.26201236+0.59269203j  0.        +0.j        ]\n",
      " [-2.06025923+0.14890955j  0.        +0.j        ]\n",
      " [-2.10688258+0.2166678j   0.        +0.j        ]\n",
      " [-3.35044515+0.01521738j  1.        +0.j        ]\n",
      " [-2.50542828+0.4423213j   1.        +0.j        ]\n",
      " [-0.99220177+0.28485361j  0.        +0.j        ]\n",
      " [-2.8990759 +0.14333877j  0.        +0.j        ]\n",
      " [-1.77752336-0.26909766j  0.        +0.j        ]\n",
      " [-3.19296731-0.00965484j  1.        +0.j        ]\n",
      " [-1.31688575+0.55432282j  1.        +0.j        ]\n",
      " [-2.73564508+0.35903624j  1.        +0.j        ]\n",
      " [-3.67251919+0.2071975j   1.        +0.j        ]\n",
      " [-2.39891941+0.45719216j  1.        +0.j        ]\n",
      " [-0.91900433+0.36650959j  0.        +0.j        ]\n",
      " [-3.48138998+0.11219109j  1.        +0.j        ]\n",
      " [-1.82019072+0.079933j    0.        +0.j        ]\n",
      " [-2.68053103+0.00723866j  0.        +0.j        ]\n",
      " [-3.46506462+0.22926438j  1.        +0.j        ]\n",
      " [-1.84632481+0.16339213j  0.        +0.j        ]\n",
      " [-2.06999302+0.30639432j  1.        +0.j        ]\n",
      " [-2.16592244+0.23725069j  0.        +0.j        ]\n",
      " [-3.41069777+0.49735757j  1.        +0.j        ]\n",
      " [-1.37889462-0.19305841j  0.        +0.j        ]\n",
      " [-1.186835  -0.095698j    0.        +0.j        ]\n",
      " [-2.55763329-0.58303415j  1.        +0.j        ]\n",
      " [-2.82911918-0.09976144j  1.        +0.j        ]\n",
      " [-1.64978954+0.33047756j  0.        +0.j        ]\n",
      " [-1.64266855+0.39157404j  0.        +0.j        ]\n",
      " [-1.58280104+0.46569498j  0.        +0.j        ]\n",
      " [-2.64661426+0.43755126j  1.        +0.j        ]\n",
      " [-3.06627789-0.05733288j  1.        +0.j        ]\n",
      " [-2.15144542+0.24653385j  0.        +0.j        ]\n",
      " [-2.54626982+0.15041721j  0.        +0.j        ]\n",
      " [-2.19505072+0.27704766j  0.        +0.j        ]\n",
      " [-2.57052332+0.49501375j  1.        +0.j        ]\n",
      " [-1.67058732+0.38320447j  1.        +0.j        ]\n",
      " [-2.90376379+0.15836075j  1.        +0.j        ]\n",
      " [-2.50369679-0.39587013j  1.        +0.j        ]\n",
      " [-2.71099919+0.01559735j  1.        +0.j        ]\n",
      " [-2.79074329+0.20122792j  0.        +0.j        ]\n",
      " [-2.35232425-0.49271547j  1.        +0.j        ]\n",
      " [-2.03306148+0.28437714j  0.        +0.j        ]\n",
      " [-0.5355205 +0.09707425j  0.        +0.j        ]\n",
      " [-3.037636  -0.02130735j  1.        +0.j        ]\n",
      " [-1.45862464+0.45286756j  0.        +0.j        ]\n",
      " [-3.0422333 -0.09781792j  1.        +0.j        ]\n",
      " [-1.22985206+0.13069385j  0.        +0.j        ]\n",
      " [-3.68966642+0.18707844j  1.        +0.j        ]\n",
      " [-1.61134499+0.22355821j  0.        +0.j        ]\n",
      " [-1.54731079+0.10889822j  0.        +0.j        ]\n",
      " [-3.001837  +0.2221639j   1.        +0.j        ]\n",
      " [-2.65805616-0.34409314j  1.        +0.j        ]\n",
      " [-0.7804435 +0.37078589j  0.        +0.j        ]\n",
      " [-1.04563266+0.30774171j  0.        +0.j        ]\n",
      " [-0.37704866+0.35349171j  0.        +0.j        ]\n",
      " [-2.6177049 -0.30935634j  1.        +0.j        ]\n",
      " [-3.14206518+0.04745767j  1.        +0.j        ]\n",
      " [-1.12595101+0.56065884j  0.        +0.j        ]\n",
      " [-1.01205925+0.53095131j  0.        +0.j        ]\n",
      " [-1.08313335+0.11851695j  0.        +0.j        ]\n",
      " [-2.37920436-0.41833156j  1.        +0.j        ]\n",
      " [-3.00874499+0.05029183j  1.        +0.j        ]\n",
      " [-2.52423541+0.49694106j  1.        +0.j        ]\n",
      " [-3.31845481+0.01160734j  1.        +0.j        ]\n",
      " [-2.79072177-0.12920309j  1.        +0.j        ]\n",
      " [-0.80327543-0.29859701j  0.        +0.j        ]\n",
      " [-3.41613157+0.0892087j   1.        +0.j        ]\n",
      " [-1.38403464+0.54753852j  0.        +0.j        ]\n",
      " [-1.38162236+0.36510054j  0.        +0.j        ]\n",
      " [-2.49145079-0.22668644j  1.        +0.j        ]\n",
      " [-1.27842278+0.35869084j  0.        +0.j        ]\n",
      " [-2.49565397-0.21183412j  1.        +0.j        ]\n",
      " [-1.19366504+0.5956978j   0.        +0.j        ]\n",
      " [-2.55609167-0.24482397j  1.        +0.j        ]\n",
      " [-0.97213901+0.46234063j  0.        +0.j        ]\n",
      " [-1.05877072+0.68771271j  0.        +0.j        ]\n",
      " [-2.49895629-0.33127116j  1.        +0.j        ]\n",
      " [-2.68947383-0.26722413j  1.        +0.j        ]\n",
      " [-1.38401978+0.22266608j  0.        +0.j        ]\n",
      " [-0.82911459+0.64967337j  0.        +0.j        ]\n",
      " [-1.85653339+0.13182493j  0.        +0.j        ]\n",
      " [-2.667307  -0.19598257j  1.        +0.j        ]\n",
      " [-2.63819725-0.21027671j  1.        +0.j        ]\n",
      " [-2.50328873-0.03933047j  0.        +0.j        ]\n",
      " [-0.50997065+0.24850752j  0.        +0.j        ]\n",
      " [-1.14977149+0.52994609j  0.        +0.j        ]\n",
      " [-2.65929582-0.13442636j  1.        +0.j        ]\n",
      " [-2.66703264-0.36419447j  1.        +0.j        ]\n",
      " [-2.7340915 -0.11695978j  1.        +0.j        ]\n",
      " [-2.59743051-0.23509513j  1.        +0.j        ]\n",
      " [-2.92197592-0.29464672j  1.        +0.j        ]\n",
      " [-0.96821761+0.59599586j  0.        +0.j        ]\n",
      " [-2.37481021-0.26428061j  1.        +0.j        ]\n",
      " [-0.87505695+0.49971058j  0.        +0.j        ]\n",
      " [-2.80860685+0.43579618j  0.        +0.j        ]\n",
      " [-3.79555694+0.31071234j  1.        +0.j        ]\n",
      " [-1.04439775+0.45983625j  0.        +0.j        ]\n",
      " [-2.74976986-0.44510711j  1.        +0.j        ]\n",
      " [-2.60596494+0.47843967j  0.        +0.j        ]\n",
      " [-2.73865402-0.32957831j  1.        +0.j        ]\n",
      " [-2.31578573+0.28710608j  0.        +0.j        ]\n",
      " [-0.99447816+0.47034035j  0.        +0.j        ]\n",
      " [-4.50370971+0.07809495j  1.        +0.j        ]\n",
      " [-4.54154183+0.01078634j  1.        +0.j        ]\n",
      " [-1.87191006+0.35369255j  0.        +0.j        ]\n",
      " [-1.30468011+0.5284827j   0.        +0.j        ]\n",
      " [-3.1752309 +0.42158159j  0.        +0.j        ]\n",
      " [-3.31771711+0.30227321j  1.        +0.j        ]\n",
      " [-3.69779925+0.36560678j  1.        +0.j        ]\n",
      " [-2.51266583+0.48104417j  0.        +0.j        ]\n",
      " [-1.80821892+0.53282064j  0.        +0.j        ]\n",
      " [-2.29068171+0.45792581j  0.        +0.j        ]\n",
      " [-3.38047475+0.43575391j  1.        +0.j        ]\n",
      " [-3.33476487+0.02384916j  1.        +0.j        ]\n",
      " [-3.24238024+0.0417847j   1.        +0.j        ]\n",
      " [-3.58101528+0.25561016j  1.        +0.j        ]\n",
      " [-3.90000863+0.06515057j  1.        +0.j        ]\n",
      " [-2.47190993+0.42124746j  0.        +0.j        ]\n",
      " [-4.28273258+0.17724189j  1.        +0.j        ]\n",
      " [-1.63020798+0.50574385j  0.        +0.j        ]\n",
      " [-1.78266756+0.21110769j  0.        +0.j        ]\n",
      " [-2.60121358-0.09346413j  1.        +0.j        ]\n",
      " [-0.82246204+0.59657373j  0.        +0.j        ]\n",
      " [-2.63208834+0.19151012j  1.        +0.j        ]\n",
      " [-1.4527964 -0.19228427j  0.        +0.j        ]\n",
      " [-2.85767747+0.17659023j  1.        +0.j        ]\n",
      " [-1.84199692+0.23918587j  0.        +0.j        ]\n",
      " [-1.78533651+0.46513529j  0.        +0.j        ]\n",
      " [-3.30704794+0.1048144j   1.        +0.j        ]\n",
      " [-3.11664318-0.103991j    1.        +0.j        ]\n",
      " [-3.55359737+0.37121291j  0.        +0.j        ]\n",
      " [-3.93160823-0.06908441j  0.        +0.j        ]\n",
      " [-2.17541611+0.13043119j  0.        +0.j        ]\n",
      " [-1.71003246-0.14177249j  1.        +0.j        ]\n",
      " [-4.02400565+0.42682085j  1.        +0.j        ]\n",
      " [-2.656286  +0.45806024j  0.        +0.j        ]\n",
      " [-3.11076437+0.33774059j  0.        +0.j        ]\n",
      " [-1.25291827+0.57625383j  0.        +0.j        ]\n",
      " [-2.54782838-0.64940359j  1.        +0.j        ]\n",
      " [-3.57659912+0.24937536j  1.        +0.j        ]\n",
      " [-3.00270447-0.07506962j  1.        +0.j        ]\n",
      " [-3.04987974-0.06040948j  1.        +0.j        ]\n",
      " [-3.08896141+0.10534431j  1.        +0.j        ]\n",
      " [-1.67388508+0.39768973j  0.        +0.j        ]\n",
      " [-4.13755957+0.21696166j  1.        +0.j        ]\n",
      " [-2.2915009 +0.57920895j  0.        +0.j        ]\n",
      " [-2.19029205-0.41724004j  1.        +0.j        ]\n",
      " [-0.80912355+0.44953331j  0.        +0.j        ]\n",
      " [-2.09170308-0.46675432j  1.        +0.j        ]\n",
      " [-0.97551994+0.56110231j  0.        +0.j        ]\n",
      " [-2.1034578 -0.41119408j  1.        +0.j        ]\n",
      " [-0.67315403+0.03092087j  0.        +0.j        ]\n",
      " [-0.50173169+0.50847793j  0.        +0.j        ]\n",
      " [-2.49771824-0.42690969j  1.        +0.j        ]\n",
      " [-2.48228052-0.47353577j  1.        +0.j        ]\n",
      " [-1.13828424+0.50266593j  0.        +0.j        ]\n",
      " [-2.44176553-0.30274328j  1.        +0.j        ]\n",
      " [-2.42678736-0.28911733j  1.        +0.j        ]\n",
      " [-0.59574323+0.63525471j  0.        +0.j        ]\n",
      " [-1.43536743+0.1106923j   0.        +0.j        ]\n",
      " [-0.50431128+0.31282254j  0.        +0.j        ]\n",
      " [-2.64906097-0.44179485j  1.        +0.j        ]\n",
      " [-2.44083116-0.3775502j   1.        +0.j        ]\n",
      " [-2.50497234-0.36437274j  1.        +0.j        ]\n",
      " [-2.49317097-0.27490455j  1.        +0.j        ]\n",
      " [-2.47215082-0.31243489j  1.        +0.j        ]\n",
      " [-0.55165622+0.6551283j   0.        +0.j        ]\n",
      " [-2.43045421-0.46661928j  1.        +0.j        ]\n",
      " [-0.80529228+0.68377079j  0.        +0.j        ]\n",
      " [-1.39608219+0.41671548j  0.        +0.j        ]\n",
      " [-3.96732562+0.12228913j  1.        +0.j        ]\n",
      " [-0.86762394+0.26740565j  0.        +0.j        ]\n",
      " [-3.10585821-0.13080546j  1.        +0.j        ]\n",
      " [-0.71586619+0.09206702j  0.        +0.j        ]\n",
      " [-2.86718073-0.08797659j  1.        +0.j        ]\n",
      " [-0.32713848+0.41960114j  0.        +0.j        ]\n",
      " [-1.27820667-0.01630577j  0.        +0.j        ]\n",
      " [-3.68325613+0.13596787j  1.        +0.j        ]\n",
      " [-2.83783399-0.25860621j  1.        +0.j        ]\n",
      " [-2.27451941+0.60899689j  0.        +0.j        ]\n",
      " [-1.00091386+0.73150884j  0.        +0.j        ]\n",
      " [-1.27590251+0.77118247j  0.        +0.j        ]\n",
      " [-3.16559909-0.05387282j  1.        +0.j        ]\n",
      " [-3.01749493+0.03791648j  1.        +0.j        ]\n",
      " [-0.0763567 +0.12592157j  0.        +0.j        ]\n",
      " [-1.67355065+0.52306699j  0.        +0.j        ]\n",
      " [-0.97826422+0.6769791j   0.        +0.j        ]\n",
      " [-2.56872267-0.52920167j  1.        +0.j        ]\n",
      " [-2.85677727-0.07173659j  1.        +0.j        ]\n",
      " [-3.88524045+0.61717799j  1.        +0.j        ]\n",
      " [-3.20277962+0.157564j    1.        +0.j        ]\n",
      " [-3.01561418-0.07185283j  1.        +0.j        ]\n",
      " [-1.14381779+0.64800542j  0.        +0.j        ]\n",
      " [-2.63586707-0.41756799j  1.        +0.j        ]\n",
      " [-0.76350423+0.63276096j  0.        +0.j        ]\n",
      " [-1.18889007+0.24870998j  0.        +0.j        ]\n",
      " [-3.04344723+0.09165411j  1.        +0.j        ]\n",
      " [-1.51173559+0.32732723j  0.        +0.j        ]\n",
      " [-2.72073332+0.10476726j  1.        +0.j        ]\n",
      " [-2.29472996+0.29525404j  0.        +0.j        ]\n",
      " [-2.21934209+0.00344972j  1.        +0.j        ]\n",
      " [-2.06781375+0.34274683j  0.        +0.j        ]\n",
      " [-1.75026534+0.14922267j  0.        +0.j        ]\n",
      " [-3.33993192+0.13708143j  1.        +0.j        ]\n",
      " [-2.32783284-0.06915657j  1.        +0.j        ]\n",
      " [-1.04673278+0.72843144j  0.        +0.j        ]\n",
      " [-1.31487572+0.26806396j  0.        +0.j        ]\n",
      " [-0.93139618+0.27002481j  0.        +0.j        ]\n",
      " [-2.40764131-0.17109395j  1.        +0.j        ]\n",
      " [-2.94877972-0.20922008j  1.        +0.j        ]\n",
      " [-1.64944214-0.01197455j  0.        +0.j        ]\n",
      " [-1.23545357+0.45175448j  0.        +0.j        ]\n",
      " [-1.41483415+0.3278185j   0.        +0.j        ]\n",
      " [-2.92257092-0.07107723j  1.        +0.j        ]\n",
      " [-2.02956899+0.11340339j  1.        +0.j        ]\n",
      " [-3.03663694-0.09443389j  1.        +0.j        ]\n",
      " [-2.97528363-0.16657944j  1.        +0.j        ]\n",
      " [-2.5198881 -0.49232918j  1.        +0.j        ]\n",
      " [-2.68972811+0.09379866j  0.        +0.j        ]\n",
      " [-1.54249728-0.0560457j   1.        +0.j        ]\n",
      " [-0.95499593+0.1695722j   0.        +0.j        ]\n",
      " [-1.17880552+0.27012673j  0.        +0.j        ]\n",
      " [-2.07259944+0.37436336j  1.        +0.j        ]\n",
      " [-2.78974448+0.05759655j  0.        +0.j        ]\n",
      " [-2.01511192-0.36535386j  1.        +0.j        ]\n",
      " [-2.33267006+0.22806911j  0.        +0.j        ]\n",
      " [-2.35087735+0.60276644j  1.        +0.j        ]\n",
      " [-1.15226552+0.31153114j  0.        +0.j        ]\n",
      " [-2.96318879+0.35345298j  0.        +0.j        ]\n",
      " [-2.51718548-0.1822604j   1.        +0.j        ]\n",
      " [-2.00398558-0.16099372j  1.        +0.j        ]\n",
      " [-2.67920428+0.47284979j  0.        +0.j        ]\n",
      " [-2.22254746+0.3823377j   0.        +0.j        ]\n",
      " [-1.29650794+0.55828682j  0.        +0.j        ]\n",
      " [-2.96807568-0.05406383j  1.        +0.j        ]\n",
      " [-2.59121094+0.14260659j  1.        +0.j        ]\n",
      " [-1.78759743+0.28234926j  0.        +0.j        ]\n",
      " [-0.88411495+0.43564764j  0.        +0.j        ]\n",
      " [-2.53242526+0.5007007j   0.        +0.j        ]\n",
      " [-2.34307436-0.23918508j  1.        +0.j        ]\n",
      " [-1.96365215-0.13813478j  1.        +0.j        ]\n",
      " [-2.41975187-0.13066472j  1.        +0.j        ]\n",
      " [-2.43495012-0.31833277j  1.        +0.j        ]\n",
      " [-2.73746812-0.2097082j   1.        +0.j        ]\n",
      " [-2.49353626+0.13141297j  0.        +0.j        ]\n",
      " [-2.52621834-0.27855325j  1.        +0.j        ]\n",
      " [-2.99212269+0.59067109j  0.        +0.j        ]\n",
      " [-0.70358586+0.53831044j  0.        +0.j        ]\n",
      " [-2.96039169+0.02182856j  1.        +0.j        ]\n",
      " [-1.25394055+0.48169646j  0.        +0.j        ]\n",
      " [-2.7025788 +0.17101009j  1.        +0.j        ]\n",
      " [-1.57569505+0.50919147j  0.        +0.j        ]\n",
      " [-2.74120983+0.04971333j  1.        +0.j        ]\n",
      " [-1.07654767+0.37038736j  0.        +0.j        ]\n",
      " [-1.15225528+0.1113876j   0.        +0.j        ]\n",
      " [-2.68252576+0.15296013j  1.        +0.j        ]\n",
      " [-2.68537146+0.12988294j  1.        +0.j        ]\n",
      " [-1.4121356 +0.51116091j  0.        +0.j        ]\n",
      " [-1.15916251+0.47820194j  0.        +0.j        ]\n",
      " [-0.95774257+0.55757532j  0.        +0.j        ]\n",
      " [-2.63693148+0.46895676j  1.        +0.j        ]\n",
      " [-2.80431395+0.31563339j  1.        +0.j        ]\n",
      " [-0.47632593+0.53920491j  0.        +0.j        ]\n",
      " [-0.87759229+0.48168254j  0.        +0.j        ]\n",
      " [-1.16063874+0.50527336j  0.        +0.j        ]\n",
      " [-2.92485921+0.21581757j  1.        +0.j        ]\n",
      " [-2.35014561+0.19147218j  1.        +0.j        ]\n",
      " [-2.71859664+0.03724387j  1.        +0.j        ]\n",
      " [-2.70049545+0.08485031j  1.        +0.j        ]\n",
      " [-2.67630869+0.30988425j  1.        +0.j        ]\n",
      " [-0.9470772 +0.20878232j  0.        +0.j        ]\n",
      " [-2.97884992+0.05327257j  1.        +0.j        ]\n",
      " [-1.17176002+0.5706791j   0.        +0.j        ]\n",
      " [-2.19366708+0.39261138j  0.        +0.j        ]\n",
      " [-2.75855078-0.24048838j  1.        +0.j        ]\n",
      " [-2.15140176+0.28228217j  0.        +0.j        ]\n",
      " [-2.31724757-0.37476576j  1.        +0.j        ]\n",
      " [-1.68961934+0.15819192j  0.        +0.j        ]\n",
      " [-2.47008402-0.38342596j  1.        +0.j        ]\n",
      " [-2.56321868-0.02902001j  0.        +0.j        ]\n",
      " [-1.94434605+0.16561981j  0.        +0.j        ]\n",
      " [-2.20464269-0.26660282j  1.        +0.j        ]\n",
      " [-2.60278074-0.11210423j  1.        +0.j        ]\n",
      " [-2.84974355-0.02856411j  0.        +0.j        ]\n",
      " [-1.85602977+0.69567347j  0.        +0.j        ]\n",
      " [-2.43404141+0.47679467j  0.        +0.j        ]\n",
      " [-2.65854968-0.37452168j  1.        +0.j        ]\n",
      " [-2.72299302-0.2249961j   1.        +0.j        ]\n",
      " [-2.64309676+0.25433828j  0.        +0.j        ]\n",
      " [-1.39229861+0.63496745j  0.        +0.j        ]\n",
      " [-2.57601384-0.30594579j  1.        +0.j        ]\n",
      " [-1.69394826-0.23568606j  1.        +0.j        ]\n",
      " [-2.2563721 -0.27104939j  1.        +0.j        ]\n",
      " [-2.74261116-0.18780051j  1.        +0.j        ]\n",
      " [-2.01927863-0.29627998j  1.        +0.j        ]\n",
      " [-2.64490086+0.30004944j  0.        +0.j        ]\n",
      " [-2.21623971-0.22594008j  1.        +0.j        ]\n",
      " [-1.68557417+0.42822966j  0.        +0.j        ]\n",
      " [-1.75724762+0.31306217j  0.        +0.j        ]\n",
      " [-2.72284414-0.21180639j  1.        +0.j        ]\n",
      " [-0.9926271 +0.136585j    0.        +0.j        ]\n",
      " [-3.96250125+0.14871264j  1.        +0.j        ]\n",
      " [-1.84138879-0.20196083j  0.        +0.j        ]\n",
      " [-2.44586512-0.54138597j  1.        +0.j        ]\n",
      " [-1.17655814+0.42863803j  0.        +0.j        ]\n",
      " [-2.92162943+0.44811583j  0.        +0.j        ]\n",
      " [-3.21694087+0.04053546j  1.        +0.j        ]\n",
      " [-3.40645062+0.17945656j  1.        +0.j        ]\n",
      " [-1.97747041+0.47768522j  0.        +0.j        ]\n",
      " [-2.27997659+0.42537741j  0.        +0.j        ]\n",
      " [-2.21364499+0.24368889j  0.        +0.j        ]\n",
      " [-2.48607607-0.39699432j  1.        +0.j        ]\n",
      " [-3.15289708-0.13596085j  1.        +0.j        ]\n",
      " [-1.64299313+0.32308611j  0.        +0.j        ]\n",
      " [-1.1406211 +0.39445601j  0.        +0.j        ]\n",
      " [-1.57049569+0.02857668j  0.        +0.j        ]\n",
      " [-2.97050043-0.40512279j  1.        +0.j        ]\n",
      " [-3.48033022+0.24962127j  1.        +0.j        ]\n",
      " [-3.73812223+0.30558991j  1.        +0.j        ]\n",
      " [-2.98070623-0.32489692j  1.        +0.j        ]\n",
      " [-3.55116675+0.0288951j   1.        +0.j        ]\n",
      " [-2.52764188+0.07971047j  0.        +0.j        ]\n",
      " [-3.37548889-0.08126937j  1.        +0.j        ]\n",
      " [-2.27771885+0.52347733j  0.        +0.j        ]]\n"
     ]
    }
   ],
   "source": [
    "result = np.hstack((Y_, target.reshape(target.shape[0],1)))\n",
    "print(result)"
   ]
  },
  {
   "cell_type": "code",
   "execution_count": 105,
   "metadata": {
    "scrolled": true
   },
   "outputs": [
    {
     "name": "stderr",
     "output_type": "stream",
     "text": [
      "/opt/anaconda3/lib/python3.7/site-packages/ipykernel_launcher.py:3: ComplexWarning: Casting complex values to real discards the imaginary part\n",
      "  This is separate from the ipykernel package so we can avoid doing imports until\n"
     ]
    },
    {
     "data": {
      "image/png": "[encoded data removed]",
      "text/plain": [
       "<Figure size 432x288 with 1 Axes>"
      ]
     },
     "metadata": {
      "needs_background": "light"
     },
     "output_type": "display_data"
    }
   ],
   "source": [
    "import matplotlib.pyplot as plt\n",
    "for i in result:\n",
    "    plt.plot(i[0],color[int(i[1])])\n",
    "plt.show()"
   ]
  },
  {
   "cell_type": "code",
   "execution_count": 106,
   "metadata": {},
   "outputs": [
    {
     "name": "stdout",
     "output_type": "stream",
     "text": [
      "(-4.541541833991325+0.010786341583687378j) (-0.07635669896800681+0.12592157014587785j)\n"
     ]
    }
   ],
   "source": [
    "min = np.min(Y_)\n",
    "max = np.max(Y_)\n",
    "print(min,max)"
   ]
  },
  {
   "cell_type": "code",
   "execution_count": 107,
   "metadata": {},
   "outputs": [],
   "source": [
    "trasholds = np.linspace(min,max,360)\n",
    "#print(trasholds)"
   ]
  },
  {
   "cell_type": "code",
   "execution_count": 108,
   "metadata": {},
   "outputs": [
    {
     "data": {
      "image/png": "[encoded data removed]",
      "text/plain": [
       "<Figure size 432x288 with 1 Axes>"
      ]
     },
     "metadata": {
      "needs_background": "light"
     },
     "output_type": "display_data"
    }
   ],
   "source": [
    "TPR = []\n",
    "FPR = []\n",
    "# infinity_min = X[:,0].min()\n",
    "# infinity_max = X[:,0].max()\n",
    "\n",
    "for step in range(X.shape[0]):\n",
    "    ind_TP = (result[:,0]>=result[step][0]) & (result[:,1]==1)\n",
    "    ind_FP = (result[:,0]<result[step][0]) & (result[:,1]==0)\n",
    "    ind_P = (result[:,1]==1)\n",
    "    ind_N = (result[:,1]==0)\n",
    "    TP = result[ind_TP,:].shape[0]\n",
    "    FP = result[ind_FP,:].shape[0]\n",
    "    #print('TP, FP =',TP, FP)\n",
    "    P = result[ind_P,:].shape[0]\n",
    "    N = result[ind_N,:].shape[0]\n",
    "    TPR.append(1-TP/P)\n",
    "    FPR.append(FP/N)\n",
    "                \n",
    "ind = np.argsort(FPR)\n",
    "# print(ind)\n",
    "FPR = np.array(FPR)[ind]\n",
    "TPR = np.array(TPR)[ind]\n",
    "plt.plot(FPR, TPR,'b.')\n",
    "plt.show()"
   ]
  }
 ],
 "metadata": {
  "kernelspec": {
   "display_name": "Python 3",
   "language": "python",
   "name": "python3"
  },
  "language_info": {
   "codemirror_mode": {
    "name": "ipython",
    "version": 3
   },
   "file_extension": ".py",
   "mimetype": "text/x-python",
   "name": "python",
   "nbconvert_exporter": "python",
   "pygments_lexer": "ipython3",
   "version": "3.7.4"
  }
 },
 "nbformat": 4,
 "nbformat_minor": 2
}
